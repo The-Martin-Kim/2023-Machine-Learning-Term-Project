{
  "nbformat": 4,
  "nbformat_minor": 0,
  "metadata": {
    "colab": {
      "provenance": [],
      "machine_shape": "hm",
      "gpuType": "V100"
    },
    "kernelspec": {
      "name": "python3",
      "display_name": "Python 3"
    },
    "language_info": {
      "name": "python"
    },
    "accelerator": "GPU"
  },
  "cells": [
    {
      "cell_type": "code",
      "source": [
        "from google.colab import drive\n",
        "drive.mount('/content/drive')"
      ],
      "metadata": {
        "colab": {
          "base_uri": "https://localhost:8080/"
        },
        "id": "HdXNMz368T5O",
        "outputId": "daaf74f9-a0f3-4172-9b3d-68d10cd3de84"
      },
      "execution_count": 1,
      "outputs": [
        {
          "output_type": "stream",
          "name": "stdout",
          "text": [
            "Mounted at /content/drive\n"
          ]
        }
      ]
    },
    {
      "cell_type": "code",
      "source": [
        "import sys\n",
        "import csv\n",
        "\n",
        "# Set the maximum field size allowed in CSV\n",
        "# to the maximum size supported by the system\n",
        "csv.field_size_limit(sys.maxsize)"
      ],
      "metadata": {
        "colab": {
          "base_uri": "https://localhost:8080/"
        },
        "id": "gIRp9L2tTzNu",
        "outputId": "3edc48a6-24f0-4bd2-8341-7a7974968e6c"
      },
      "execution_count": 2,
      "outputs": [
        {
          "output_type": "execute_result",
          "data": {
            "text/plain": [
              "131072"
            ]
          },
          "metadata": {},
          "execution_count": 2
        }
      ]
    },
    {
      "cell_type": "code",
      "execution_count": 3,
      "metadata": {
        "id": "Qao6nLtIDz5k"
      },
      "outputs": [],
      "source": [
        "import numpy as np\n",
        "import pandas as pd\n",
        "\n",
        "import matplotlib.pyplot as plt\n",
        "import seaborn as sns\n",
        "\n",
        "import warnings\n",
        "warnings.filterwarnings('ignore')\n",
        "\n",
        "# Reading the 'zomato.csv' file\n",
        "df = pd.read_csv('/content/drive/MyDrive/zomato.csv',\n",
        "                 engine='python', on_bad_lines='skip', encoding='utf-8')"
      ]
    },
    {
      "cell_type": "code",
      "source": [
        "# Dropping unnecessary columns\n",
        "df = df.drop(['url', 'phone', 'dish_liked', 'menu_item', 'listed_in(city)'], axis=1)\n",
        "\n",
        "# Renaming columns for better readability and consistency\n",
        "df = df.rename(columns={'approx_cost(for two people)':'cost',\n",
        "                        'listed_in(type)':'type'})\n",
        "\n",
        "# Capitalizing the first letter of each word in the 'name' column\n",
        "df.name = df.name.apply(lambda x:x.title())\n",
        "\n",
        "# Converting 'online_order' and 'book_table' columns to Boolean True/False\n",
        "df.online_order.replace(('Yes','No'),(True, False),inplace=True)\n",
        "df.book_table.replace(('Yes','No'),(True, False),inplace=True)\n",
        "\n",
        "# Cleaning and converting the 'cost' column to a float type\n",
        "df['cost'] = df['cost'].astype(str)\n",
        "df['cost'] = df['cost'].apply(lambda x: x.replace(',','.'))\n",
        "df['cost'] = df['cost'].astype(float)\n",
        "\n",
        "# Removing rows where 'rate' is 'NEW' or '-'\n",
        "df = df.loc[df.rate !='NEW']\n",
        "df = df.loc[df.rate !='-'].reset_index(drop=True)\n",
        "\n",
        "# Removing the '/5' part from the 'rate' column and converting it to float\n",
        "remove_slash = lambda x: x.replace('/5', '') if isinstance(x, str) else x\n",
        "df.rate = df.rate.apply(remove_slash).str.strip().astype('float')"
      ],
      "metadata": {
        "id": "M86SWr4DI8fQ"
      },
      "execution_count": 4,
      "outputs": []
    },
    {
      "cell_type": "code",
      "source": [
        "### Content-Based Recommendation System Using TF-IDF Vectorization & Cosine Similarity\n",
        "\n",
        "from sklearn.feature_extraction.text import TfidfVectorizer\n",
        "from sklearn.metrics.pairwise import linear_kernel\n",
        "\n",
        "# Creating a TF-IDF Vectorizer, but ignoring English stop words\n",
        "tfidf_vectorizer = TfidfVectorizer(stop_words='english')\n",
        "\n",
        "# Transforming the 'reviews_list' column of the DataFrame into a TF-IDF-weighted term-document matrix\n",
        "tfidf_matrix = tfidf_vectorizer.fit_transform(df['reviews_list'])\n",
        "\n",
        "# Calculating the cosine similarity matrix from the TF-IDF matrix\n",
        "cosine_sim = linear_kernel(tfidf_matrix, tfidf_matrix)\n",
        "\n",
        "def get_recommendations(df, title):\n",
        "\n",
        "    # Finding the index of the restaurant that matches the title\n",
        "    idx = df.index[df['name'] == title].tolist()[0]\n",
        "\n",
        "    # Getting the pairwise similarity scores\n",
        "    # of all restaurants with that restaurant\n",
        "    sim_scores = list(enumerate(cosine_sim[idx]))\n",
        "\n",
        "    # Sorting the restaurants based on the similarity scores\n",
        "    sim_scores = sorted(sim_scores, key=lambda x: x[1], reverse=True)\n",
        "\n",
        "    # Filtering out the same restaurant\n",
        "    # to avoid self-recommendation\n",
        "    sim_scores = [score for score in sim_scores if df['name'].iloc[score[0]] != title]\n",
        "\n",
        "    recommended_restaurants = []\n",
        "    seen_names = set()\n",
        "    for score in sim_scores:\n",
        "        # Limit the number of recommendations to 5\n",
        "        if len(recommended_restaurants) == 5:\n",
        "            break\n",
        "        restaurant_name = df['name'].iloc[score[0]]\n",
        "\n",
        "        # Ensuring no duplicate recommendations\n",
        "        if restaurant_name not in seen_names:\n",
        "            recommended_restaurants.append(restaurant_name)\n",
        "            seen_names.add(restaurant_name)\n",
        "\n",
        "    return recommended_restaurants\n",
        "\n",
        "df_copied = df.copy()\n",
        "\n",
        "# Scenario: Getting recommendations for the restaurant 'Spice Elephant'\n",
        "recommended_restaurants = get_recommendations(df_copied, 'Spice Elephant')\n",
        "\n",
        "recommended_restaurants"
      ],
      "metadata": {
        "colab": {
          "base_uri": "https://localhost:8080/"
        },
        "id": "6raZLwd9ygRp",
        "outputId": "ebbcaf22-5060-4b88-de5e-5bb80c312694"
      },
      "execution_count": 5,
      "outputs": [
        {
          "output_type": "execute_result",
          "data": {
            "text/plain": [
              "['Atithi', 'Flavours - Octave Hotel & Spa', 'Cinnamon', 'Paprica', 'Tamarind']"
            ]
          },
          "metadata": {},
          "execution_count": 5
        }
      ]
    }
  ]
}