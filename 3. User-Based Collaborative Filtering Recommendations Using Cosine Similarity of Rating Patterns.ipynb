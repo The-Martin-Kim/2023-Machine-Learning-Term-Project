{
  "nbformat": 4,
  "nbformat_minor": 0,
  "metadata": {
    "colab": {
      "provenance": [],
      "machine_shape": "hm",
      "gpuType": "V100"
    },
    "kernelspec": {
      "name": "python3",
      "display_name": "Python 3"
    },
    "language_info": {
      "name": "python"
    },
    "accelerator": "GPU"
  },
  "cells": [
    {
      "cell_type": "code",
      "source": [
        "from google.colab import drive\n",
        "drive.mount('/content/drive')"
      ],
      "metadata": {
        "colab": {
          "base_uri": "https://localhost:8080/"
        },
        "id": "HdXNMz368T5O",
        "outputId": "16f2c54e-bb87-42b6-ac4a-5516c211cb65"
      },
      "execution_count": 1,
      "outputs": [
        {
          "output_type": "stream",
          "name": "stdout",
          "text": [
            "Mounted at /content/drive\n"
          ]
        }
      ]
    },
    {
      "cell_type": "code",
      "source": [
        "import sys\n",
        "import csv\n",
        "\n",
        "# Set the maximum field size allowed in CSV\n",
        "# to the maximum size supported by the system\n",
        "csv.field_size_limit(sys.maxsize)"
      ],
      "metadata": {
        "colab": {
          "base_uri": "https://localhost:8080/"
        },
        "id": "gIRp9L2tTzNu",
        "outputId": "b992ae4b-9220-4a31-ec00-0c1cd346b6c3"
      },
      "execution_count": 2,
      "outputs": [
        {
          "output_type": "execute_result",
          "data": {
            "text/plain": [
              "131072"
            ]
          },
          "metadata": {},
          "execution_count": 2
        }
      ]
    },
    {
      "cell_type": "code",
      "execution_count": 3,
      "metadata": {
        "id": "Qao6nLtIDz5k"
      },
      "outputs": [],
      "source": [
        "import numpy as np\n",
        "import pandas as pd\n",
        "\n",
        "import matplotlib.pyplot as plt\n",
        "import seaborn as sns\n",
        "\n",
        "import warnings\n",
        "warnings.filterwarnings('ignore')\n",
        "\n",
        "# Reading the 'zomato.csv' file\n",
        "df = pd.read_csv('/content/drive/MyDrive/zomato.csv',\n",
        "                 engine='python', on_bad_lines='skip', encoding='utf-8')"
      ]
    },
    {
      "cell_type": "code",
      "source": [
        "# Dropping unnecessary columns\n",
        "df = df.drop(['url', 'phone', 'dish_liked', 'menu_item', 'listed_in(city)'], axis=1)\n",
        "\n",
        "# Renaming columns for better readability and consistency\n",
        "df = df.rename(columns={'approx_cost(for two people)':'cost',\n",
        "                        'listed_in(type)':'type'})\n",
        "\n",
        "# Capitalizing the first letter of each word in the 'name' column\n",
        "df.name = df.name.apply(lambda x:x.title())\n",
        "\n",
        "# Converting 'online_order' and 'book_table' columns to Boolean True/False\n",
        "df.online_order.replace(('Yes','No'),(True, False),inplace=True)\n",
        "df.book_table.replace(('Yes','No'),(True, False),inplace=True)\n",
        "\n",
        "# Cleaning and converting the 'cost' column to a float type\n",
        "df['cost'] = df['cost'].astype(str)\n",
        "df['cost'] = df['cost'].apply(lambda x: x.replace(',','.'))\n",
        "df['cost'] = df['cost'].astype(float)\n",
        "\n",
        "# Removing rows where 'rate' is 'NEW' or '-'\n",
        "df = df.loc[df.rate !='NEW']\n",
        "df = df.loc[df.rate !='-'].reset_index(drop=True)\n",
        "\n",
        "# Removing the '/5' part from the 'rate' column and converting it to float\n",
        "remove_slash = lambda x: x.replace('/5', '') if isinstance(x, str) else x\n",
        "df.rate = df.rate.apply(remove_slash).str.strip().astype('float')"
      ],
      "metadata": {
        "id": "M86SWr4DI8fQ"
      },
      "execution_count": 4,
      "outputs": []
    },
    {
      "cell_type": "code",
      "source": [
        "### User-Based Collaborative Filtering Recommendations Using Cosine Similarity of Rating Patterns\n",
        "\n",
        "from sklearn.metrics.pairwise import cosine_similarity\n",
        "from scipy.sparse import csr_matrix\n",
        "\n",
        "# Counting the number of ratings in each 'reviews_list' entry\n",
        "array_sizes = df['reviews_list'].str.count(r'Rated \\d\\.\\d')\n",
        "\n",
        "# Filtering the DataFrame for restaurants\n",
        "# with 50 or more ratings (Assuming for scenario)\n",
        "df_filtered = df[array_sizes >= 50]\n",
        "\n",
        "# Extracting individual ratings and converting them to floats\n",
        "ratings_list = df_filtered['reviews_list'].str.findall(r'Rated (\\d\\.\\d)').explode().dropna()\n",
        "ratings_list = ratings_list.astype(float)\n",
        "\n",
        "# Creating an array of user IDs, with each ID repeated\n",
        "# according to the number of ratings they've given\n",
        "user_ids = np.repeat(np.arange(len(df_filtered)), df_filtered['reviews_list'].str.count(r'Rated \\d\\.\\d')).astype(int)\n",
        "\n",
        "# Limiting each user's ratings\n",
        "# to their first 50 reviews (Assuming for scenario)\n",
        "ratings_list = ratings_list.groupby(user_ids).head(50)\n",
        "user_ids = np.repeat(np.arange(len(df_filtered)), 50)\n",
        "\n",
        "# DF - user IDs, restaurant IDs, and ratings\n",
        "ratings_df = pd.DataFrame({\n",
        "    'user_id': user_ids,\n",
        "    'restaurant_id': np.tile(np.arange(len(df_filtered)), ratings_list.groupby(user_ids).size().max()),\n",
        "    'rating': ratings_list.values\n",
        "}).dropna()\n",
        "\n",
        "# Creating a pivot table for user-item (restaurant) interactions\n",
        "ratings_pivot = ratings_df.pivot_table(index='user_id', columns='restaurant_id', values='rating', fill_value=0)\n",
        "\n",
        "# Converting the pivot table into a sparse matrix\n",
        "ratings_matrix = csr_matrix(ratings_pivot.values)\n",
        "\n",
        "# Calculating the cosine similarity\n",
        "# between users based on their rating patterns\n",
        "user_similarity = cosine_similarity(ratings_matrix)"
      ],
      "metadata": {
        "id": "3vBPq5Gx_6YZ"
      },
      "execution_count": 5,
      "outputs": []
    },
    {
      "cell_type": "code",
      "source": [
        "restaurant_names = df['name'].tolist()\n",
        "\n",
        "def recommend_items(user_id, user_similarity, ratings_pivot, top_n=5):\n",
        "    # Sorting other users based on similarity to the target user\n",
        "    # and excluding the target user itself\n",
        "    similar_users = user_similarity[user_id].argsort()[::-1]\n",
        "    similar_users = similar_users[1:]\n",
        "\n",
        "    # Predicting ratings for items by dot product of the similarity vector and the ratings matrix\n",
        "    recommendations = np.dot(user_similarity[user_id, :].reshape(1, -1), ratings_pivot.values).reshape(-1)\n",
        "\n",
        "    # Identifying items already rated by the user (don't need ~)\n",
        "    already_rated = np.nonzero(ratings_pivot.iloc[user_id].to_numpy())[0]\n",
        "\n",
        "    # Setting recommendations for already rated items to 0 to exclude them\n",
        "    recommendations[already_rated] = 0\n",
        "\n",
        "    # Getting top N recommendations, ignoring already rated items\n",
        "    recommendation_ids = recommendations.argsort()[::-1][:top_n]\n",
        "\n",
        "    # Converting restaurant indices to names\n",
        "    recommended_item_names = [restaurant_names[i] for i in recommendation_ids]\n",
        "\n",
        "    return recommended_item_names\n",
        "\n",
        "# Scenario: Recommending items for user with ID 0\n",
        "recommended_items = recommend_items(0, user_similarity, ratings_pivot)\n",
        "print(\"Recommended items for user 0:\", recommended_items)"
      ],
      "metadata": {
        "colab": {
          "base_uri": "https://localhost:8080/"
        },
        "id": "Zh_Sp83oJ_lT",
        "outputId": "a4475a38-2357-4a5f-d49e-9518c10409f9"
      },
      "execution_count": 6,
      "outputs": [
        {
          "output_type": "stream",
          "name": "stdout",
          "text": [
            "Recommended items for user 0: ['Shree Cool Point', 'Corner House Ice Cream', 'Petoo', \"Pizza Baker'S\", 'Kanti Sweets']\n"
          ]
        }
      ]
    }
  ]
}